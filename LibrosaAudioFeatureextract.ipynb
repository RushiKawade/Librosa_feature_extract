{
  "nbformat": 4,
  "nbformat_minor": 0,
  "metadata": {
    "colab": {
      "name": "LibrosaAudioFeatureextract.ipynb",
      "provenance": [],
      "authorship_tag": "ABX9TyMCpFAUZ0TKIL4oP6nUcE/E",
      "include_colab_link": true
    },
    "kernelspec": {
      "name": "python3",
      "display_name": "Python 3"
    }
  },
  "cells": [
    {
      "cell_type": "markdown",
      "metadata": {
        "id": "view-in-github",
        "colab_type": "text"
      },
      "source": [
        "<a href=\"https://colab.research.google.com/github/RushiKawade/Librosa_feature_extract/blob/master/LibrosaAudioFeatureextract.ipynb\" target=\"_parent\"><img src=\"https://colab.research.google.com/assets/colab-badge.svg\" alt=\"Open In Colab\"/></a>"
      ]
    },
    {
      "cell_type": "code",
      "metadata": {
        "id": "PxL_C3Ufien9",
        "colab_type": "code",
        "outputId": "74f64421-b909-44e0-8d1a-7ccaf542364a",
        "colab": {
          "base_uri": "https://localhost:8080/",
          "height": 50
        }
      },
      "source": [
        "! git clone https://github.com/RushiKawade/Librosa_feature_extract.git\n",
        "! ls"
      ],
      "execution_count": 49,
      "outputs": [
        {
          "output_type": "stream",
          "text": [
            "fatal: destination path 'Librosa_feature_extract' already exists and is not an empty directory.\n",
            "Librosa_feature_extract  pro1  sample_data\n"
          ],
          "name": "stdout"
        }
      ]
    },
    {
      "cell_type": "code",
      "metadata": {
        "id": "PeoYv0REihiQ",
        "colab_type": "code",
        "outputId": "c5ef4b2b-a65f-4a26-e840-2303baade37a",
        "colab": {
          "base_uri": "https://localhost:8080/",
          "height": 34
        }
      },
      "source": [
        "from glob import glob\n",
        "\n",
        "# use local path in case of local run of program.\n",
        "data_dir = './Librosa_feature_extract/voice_data/'\n",
        "audio_files = glob(norm_data_dir  + '*.mp3')\n",
        "\n",
        "\n",
        "print('Number of data files loaded: '+ str(len(audio_files)))"
      ],
      "execution_count": 50,
      "outputs": [
        {
          "output_type": "stream",
          "text": [
            "Number of data files loaded: 4\n"
          ],
          "name": "stdout"
        }
      ]
    },
    {
      "cell_type": "code",
      "metadata": {
        "id": "2lbSIRT1mRHJ",
        "colab_type": "code",
        "colab": {
          "base_uri": "https://localhost:8080/",
          "height": 84
        },
        "outputId": "7d7f4ec0-4193-4692-96f6-89c83cd1f3bf"
      },
      "source": [
        "import librosa\n",
        "from librosa import feature\n",
        "import numpy as np\n",
        "import pandas as pd\n",
        "\n",
        "# y = Time Series Array of audio files. Features will be extracted for each data point separately.\n",
        "# sr is a sampling rate\n",
        "\n",
        "speaker = []\n",
        "res = []\n",
        "\n",
        "for audio_path in audio_files:\n",
        "  print(audio_path)\n",
        "  # ./pro1/normals/61-70968-0007 (online-audio-converter.com).mp3 is path of file to get name of person slice the file path as shown below. Numbers will be differant in your case.\n",
        "  person = audio_path[15:]\n",
        "  person = person[:-33]\n",
        "  #print(person)\n",
        "  speaker.append(person)\n",
        "\n",
        "\n",
        "  y,sr = librosa.load(audio_path)\n",
        "  features = librosa.feature.mfcc(y,sr)\n",
        "  # You can use these features as it is or take mean for all 20 features for each time point by taking column-wise i.e. convert 20 * n array to 20 * 1by to get 1 feature vector per speaker\n",
        " # print(features.shape) # has a shape of 20 * n\n",
        "  \n",
        "  res.append(np.mean(features,axis=1)) # take row0wise mean\n",
        "\n",
        "\n",
        "df = pd.DataFrame(res)\n",
        "df['speaker']= speaker\n",
        "\n",
        "\n",
        "\n",
        "\n"
      ],
      "execution_count": 51,
      "outputs": [
        {
          "output_type": "stream",
          "text": [
            "./pro1/normals/61-70968-0007 (online-audio-converter.com).mp3\n",
            "./pro1/normals/61-70968-0001 (online-audio-converter.com).mp3\n",
            "./pro1/normals/61-70968-0002 (online-audio-converter.com).mp3\n",
            "./pro1/normals/61-70968-0000 (online-audio-converter.com).mp3\n"
          ],
          "name": "stdout"
        }
      ]
    },
    {
      "cell_type": "code",
      "metadata": {
        "id": "VPxkTjM4lo5X",
        "colab_type": "code",
        "colab": {
          "base_uri": "https://localhost:8080/",
          "height": 134
        },
        "outputId": "b42df2e8-d53f-4029-9b87-a19bedab43d0"
      },
      "source": [
        "print(df)"
      ],
      "execution_count": 52,
      "outputs": [
        {
          "output_type": "stream",
          "text": [
            "            0           1          2  ...        18        19        speaker\n",
            "0 -349.530621  113.786632  -8.128999  ...  6.840907 -3.350148  61-70968-0007\n",
            "1 -335.529813  145.489373 -19.930307  ...  6.635087 -3.383496  61-70968-0001\n",
            "2 -345.420417  138.491843 -27.996780  ...  6.598630 -1.566160  61-70968-0002\n",
            "3 -349.737403  135.930302 -25.850653  ...  7.571451 -4.738425  61-70968-0000\n",
            "\n",
            "[4 rows x 21 columns]\n"
          ],
          "name": "stdout"
        }
      ]
    },
    {
      "cell_type": "code",
      "metadata": {
        "id": "e4X7CloI5Sa-",
        "colab_type": "code",
        "colab": {}
      },
      "source": [
        ""
      ],
      "execution_count": 0,
      "outputs": []
    }
  ]
}