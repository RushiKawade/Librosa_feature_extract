{
  "nbformat": 4,
  "nbformat_minor": 0,
  "metadata": {
    "colab": {
      "name": "LibrosaAudioFeatureextract.ipynb",
      "provenance": [],
      "authorship_tag": "ABX9TyMHt9MGk4WKY3c5LYqfIzpk",
      "include_colab_link": true
    },
    "kernelspec": {
      "name": "python3",
      "display_name": "Python 3"
    }
  },
  "cells": [
    {
      "cell_type": "markdown",
      "metadata": {
        "id": "view-in-github",
        "colab_type": "text"
      },
      "source": [
        "<a href=\"https://colab.research.google.com/github/RushiKawade/Librosa_feature_extract/blob/master/LibrosaAudioFeatureextract.ipynb\" target=\"_parent\"><img src=\"https://colab.research.google.com/assets/colab-badge.svg\" alt=\"Open In Colab\"/></a>"
      ]
    },
    {
      "cell_type": "code",
      "metadata": {
        "id": "PxL_C3Ufien9",
        "colab_type": "code",
        "outputId": "6a28b425-6dd7-481f-97b6-001f04ab03b4",
        "colab": {
          "base_uri": "https://localhost:8080/",
          "height": 134
        }
      },
      "source": [
        "! git clone https://github.com/RushiKawade/Librosa_feature_extract.git\n",
        "! ls"
      ],
      "execution_count": 1,
      "outputs": [
        {
          "output_type": "stream",
          "text": [
            "Cloning into 'pro1'...\n",
            "remote: Enumerating objects: 46, done.\u001b[K\n",
            "remote: Counting objects:   2% (1/46)\u001b[K\rremote: Counting objects:   4% (2/46)\u001b[K\rremote: Counting objects:   6% (3/46)\u001b[K\rremote: Counting objects:   8% (4/46)\u001b[K\rremote: Counting objects:  10% (5/46)\u001b[K\rremote: Counting objects:  13% (6/46)\u001b[K\rremote: Counting objects:  15% (7/46)\u001b[K\rremote: Counting objects:  17% (8/46)\u001b[K\rremote: Counting objects:  19% (9/46)\u001b[K\rremote: Counting objects:  21% (10/46)\u001b[K\rremote: Counting objects:  23% (11/46)\u001b[K\rremote: Counting objects:  26% (12/46)\u001b[K\rremote: Counting objects:  28% (13/46)\u001b[K\rremote: Counting objects:  30% (14/46)\u001b[K\rremote: Counting objects:  32% (15/46)\u001b[K\rremote: Counting objects:  34% (16/46)\u001b[K\rremote: Counting objects:  36% (17/46)\u001b[K\rremote: Counting objects:  39% (18/46)\u001b[K\rremote: Counting objects:  41% (19/46)\u001b[K\rremote: Counting objects:  43% (20/46)\u001b[K\rremote: Counting objects:  45% (21/46)\u001b[K\rremote: Counting objects:  47% (22/46)\u001b[K\rremote: Counting objects:  50% (23/46)\u001b[K\rremote: Counting objects:  52% (24/46)\u001b[K\rremote: Counting objects:  54% (25/46)\u001b[K\rremote: Counting objects:  56% (26/46)\u001b[K\rremote: Counting objects:  58% (27/46)\u001b[K\rremote: Counting objects:  60% (28/46)\u001b[K\rremote: Counting objects:  63% (29/46)\u001b[K\rremote: Counting objects:  65% (30/46)\u001b[K\rremote: Counting objects:  67% (31/46)\u001b[K\rremote: Counting objects:  69% (32/46)\u001b[K\rremote: Counting objects:  71% (33/46)\u001b[K\rremote: Counting objects:  73% (34/46)\u001b[K\rremote: Counting objects:  76% (35/46)\u001b[K\rremote: Counting objects:  78% (36/46)\u001b[K\rremote: Counting objects:  80% (37/46)\u001b[K\rremote: Counting objects:  82% (38/46)\u001b[K\rremote: Counting objects:  84% (39/46)\u001b[K\rremote: Counting objects:  86% (40/46)\u001b[K\rremote: Counting objects:  89% (41/46)\u001b[K\rremote: Counting objects:  91% (42/46)\u001b[K\rremote: Counting objects:  93% (43/46)\u001b[K\rremote: Counting objects:  95% (44/46)\u001b[K\rremote: Counting objects:  97% (45/46)\u001b[K\rremote: Counting objects: 100% (46/46)\u001b[K\rremote: Counting objects: 100% (46/46), done.\u001b[K\n",
            "remote: Compressing objects:   2% (1/40)\u001b[K\rremote: Compressing objects:   5% (2/40)\u001b[K\rremote: Compressing objects:   7% (3/40)\u001b[K\rremote: Compressing objects:  10% (4/40)\u001b[K\rremote: Compressing objects:  12% (5/40)\u001b[K\rremote: Compressing objects:  15% (6/40)\u001b[K\rremote: Compressing objects:  17% (7/40)\u001b[K\rremote: Compressing objects:  20% (8/40)\u001b[K\rremote: Compressing objects:  22% (9/40)\u001b[K\rremote: Compressing objects:  25% (10/40)\u001b[K\rremote: Compressing objects:  27% (11/40)\u001b[K\rremote: Compressing objects:  30% (12/40)\u001b[K\rremote: Compressing objects:  32% (13/40)\u001b[K\rremote: Compressing objects:  35% (14/40)\u001b[K\rremote: Compressing objects:  37% (15/40)\u001b[K\rremote: Compressing objects:  40% (16/40)\u001b[K\rremote: Compressing objects:  42% (17/40)\u001b[K\rremote: Compressing objects:  45% (18/40)\u001b[K\rremote: Compressing objects:  47% (19/40)\u001b[K\rremote: Compressing objects:  50% (20/40)\u001b[K\rremote: Compressing objects:  52% (21/40)\u001b[K\rremote: Compressing objects:  55% (22/40)\u001b[K\rremote: Compressing objects:  57% (23/40)\u001b[K\rremote: Compressing objects:  60% (24/40)\u001b[K\rremote: Compressing objects:  62% (25/40)\u001b[K\rremote: Compressing objects:  65% (26/40)\u001b[K\rremote: Compressing objects:  67% (27/40)\u001b[K\rremote: Compressing objects:  70% (28/40)\u001b[K\rremote: Compressing objects:  72% (29/40)\u001b[K\rremote: Compressing objects:  75% (30/40)\u001b[K\rremote: Compressing objects:  77% (31/40)\u001b[K\rremote: Compressing objects:  80% (32/40)\u001b[K\rremote: Compressing objects:  82% (33/40)\u001b[K\rremote: Compressing objects:  85% (34/40)\u001b[K\rremote: Compressing objects:  87% (35/40)\u001b[K\rremote: Compressing objects:  90% (36/40)\u001b[K\rremote: Compressing objects:  92% (37/40)\u001b[K\rremote: Compressing objects:  95% (38/40)\u001b[K\rremote: Compressing objects:  97% (39/40)\u001b[K\rremote: Compressing objects: 100% (40/40)\u001b[K\rremote: Compressing objects: 100% (40/40), done.\u001b[K\n",
            "Unpacking objects:   2% (1/46)   \rUnpacking objects:   4% (2/46)   \rUnpacking objects:   6% (3/46)   \rUnpacking objects:   8% (4/46)   \rUnpacking objects:  10% (5/46)   \rUnpacking objects:  13% (6/46)   \rUnpacking objects:  15% (7/46)   \rUnpacking objects:  17% (8/46)   \rUnpacking objects:  19% (9/46)   \rUnpacking objects:  21% (10/46)   \rUnpacking objects:  23% (11/46)   \rUnpacking objects:  26% (12/46)   \rUnpacking objects:  28% (13/46)   \rUnpacking objects:  30% (14/46)   \rUnpacking objects:  32% (15/46)   \rUnpacking objects:  34% (16/46)   \rUnpacking objects:  36% (17/46)   \rUnpacking objects:  39% (18/46)   \rUnpacking objects:  41% (19/46)   \rUnpacking objects:  43% (20/46)   \rUnpacking objects:  45% (21/46)   \rUnpacking objects:  47% (22/46)   \rUnpacking objects:  50% (23/46)   \rUnpacking objects:  52% (24/46)   \rUnpacking objects:  54% (25/46)   \rremote: Total 46 (delta 15), reused 0 (delta 0), pack-reused 0\u001b[K\n",
            "Unpacking objects:  56% (26/46)   \rUnpacking objects:  58% (27/46)   \rUnpacking objects:  60% (28/46)   \rUnpacking objects:  63% (29/46)   \rUnpacking objects:  65% (30/46)   \rUnpacking objects:  67% (31/46)   \rUnpacking objects:  69% (32/46)   \rUnpacking objects:  71% (33/46)   \rUnpacking objects:  73% (34/46)   \rUnpacking objects:  76% (35/46)   \rUnpacking objects:  78% (36/46)   \rUnpacking objects:  80% (37/46)   \rUnpacking objects:  82% (38/46)   \rUnpacking objects:  84% (39/46)   \rUnpacking objects:  86% (40/46)   \rUnpacking objects:  89% (41/46)   \rUnpacking objects:  91% (42/46)   \rUnpacking objects:  93% (43/46)   \rUnpacking objects:  95% (44/46)   \rUnpacking objects:  97% (45/46)   \rUnpacking objects: 100% (46/46)   \rUnpacking objects: 100% (46/46), done.\n",
            "pro1  sample_data\n"
          ],
          "name": "stdout"
        }
      ]
    },
    {
      "cell_type": "code",
      "metadata": {
        "id": "PeoYv0REihiQ",
        "colab_type": "code",
        "outputId": "f73097bf-dc7f-47ab-c27b-d603656659ec",
        "colab": {
          "base_uri": "https://localhost:8080/",
          "height": 34
        }
      },
      "source": [
        "from glob import glob\n",
        "\n",
        "# use local path in case of local run of program.\n",
        "data_dir = './Librosa_feature_extract/voice_data/'\n",
        "audio_files = glob(norm_data_dir  + '*.mp3')\n",
        "\n",
        "\n",
        "print('Number of data files loaded: '+ str(len(audio_files)))"
      ],
      "execution_count": 43,
      "outputs": [
        {
          "output_type": "stream",
          "text": [
            "Number of data files loaded: 4\n"
          ],
          "name": "stdout"
        }
      ]
    },
    {
      "cell_type": "code",
      "metadata": {
        "id": "2lbSIRT1mRHJ",
        "colab_type": "code",
        "colab": {
          "base_uri": "https://localhost:8080/",
          "height": 134
        },
        "outputId": "f134e73d-eddf-45c5-b020-3fd11145ce5d"
      },
      "source": [
        "import librosa\n",
        "from librosa import feature\n",
        "import numpy as np\n",
        "import pandas as pd\n",
        "\n",
        "# y = Time Series Array of audio files. Features will be extracted for each data point separately.\n",
        "# sr is a sampling rate\n",
        "\n",
        "speaker = []\n",
        "res = []\n",
        "\n",
        "for audio_path in audio_files:\n",
        "  #print(audio_path)\n",
        "  # ./pro1/normals/61-70968-0007 (online-audio-converter.com).mp3 is path of file to get name of person slice the file path as shown below. Numbers will be differant in your case.\n",
        "  person = audio_path[15:]\n",
        "  person = person[:-33]\n",
        "  #print(person)\n",
        "  speaker.append(person)\n",
        "\n",
        "  \n",
        "  y,sr = librosa.load(audio_path)\n",
        "  features = librosa.feature.mfcc(y,sr)\n",
        "  # You can use these features as it is or take mean for all 20 features for each time point by taking column-wise i.e. convert 20 * n array to 20 * 1by to get 1 feature vector per speaker\n",
        " # print(features.shape) # has a shape of 20 * n\n",
        "  \n",
        "  res.append(np.mean(features,axis=1)) # take row0wise mean\n",
        "\n",
        "\n",
        "df = pd.DataFrame(res)\n",
        "df['speaker']= speaker\n",
        "\n",
        "\n",
        "\n",
        "\n"
      ],
      "execution_count": 41,
      "outputs": [
        {
          "output_type": "stream",
          "text": [
            "            0           1          2  ...        18        19        speaker\n",
            "0 -349.530621  113.786632  -8.128999  ...  6.840907 -3.350148  61-70968-0007\n",
            "1 -335.529813  145.489373 -19.930307  ...  6.635087 -3.383496  61-70968-0001\n",
            "2 -345.420417  138.491843 -27.996780  ...  6.598630 -1.566160  61-70968-0002\n",
            "3 -349.737403  135.930302 -25.850653  ...  7.571451 -4.738425  61-70968-0000\n",
            "\n",
            "[4 rows x 21 columns]\n"
          ],
          "name": "stdout"
        }
      ]
    },
    {
      "cell_type": "code",
      "metadata": {
        "id": "VPxkTjM4lo5X",
        "colab_type": "code",
        "colab": {
          "base_uri": "https://localhost:8080/",
          "height": 134
        },
        "outputId": "6b88a99b-d412-407a-8200-d83a9344ce4c"
      },
      "source": [
        "print(df)"
      ],
      "execution_count": 42,
      "outputs": [
        {
          "output_type": "stream",
          "text": [
            "            0           1          2  ...        18        19        speaker\n",
            "0 -349.530621  113.786632  -8.128999  ...  6.840907 -3.350148  61-70968-0007\n",
            "1 -335.529813  145.489373 -19.930307  ...  6.635087 -3.383496  61-70968-0001\n",
            "2 -345.420417  138.491843 -27.996780  ...  6.598630 -1.566160  61-70968-0002\n",
            "3 -349.737403  135.930302 -25.850653  ...  7.571451 -4.738425  61-70968-0000\n",
            "\n",
            "[4 rows x 21 columns]\n"
          ],
          "name": "stdout"
        }
      ]
    },
    {
      "cell_type": "code",
      "metadata": {
        "id": "e4X7CloI5Sa-",
        "colab_type": "code",
        "colab": {}
      },
      "source": [
        ""
      ],
      "execution_count": 0,
      "outputs": []
    }
  ]
}